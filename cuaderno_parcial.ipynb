{
 "cells": [
  {
   "cell_type": "code",
   "execution_count": 1,
   "id": "dd29bc6d",
   "metadata": {},
   "outputs": [],
   "source": [
    "###Impotar paquetes\n",
    "\n",
    "\n",
    "import pandas as pd\n",
    "import numpy as np\n",
    "import sympy as s\n",
    "import matplotlib.pyplot as plt\n",
    "import seaborn as sns"
   ]
  },
  {
   "cell_type": "code",
   "execution_count": 4,
   "id": "72f503c5",
   "metadata": {},
   "outputs": [
    {
     "name": "stdout",
     "output_type": "stream",
     "text": [
      "<bound method DataFrame.info of       Unnamed: 0     obsid                           fitsname    snrg    snrr  \\\n",
      "0              0    102084     spec-55859-F5902_sp02-084.fits   54.80   78.63   \n",
      "1              1    103019     spec-55859-F5902_sp03-019.fits   66.33   99.07   \n",
      "2              2    103025     spec-55859-F5902_sp03-025.fits   55.40   84.64   \n",
      "3              3    103032     spec-55859-F5902_sp03-032.fits  387.09  455.38   \n",
      "4              4    103110     spec-55859-F5902_sp03-110.fits   53.28   76.25   \n",
      "...          ...       ...                                ...     ...     ...   \n",
      "4995        4995  18803047  spec-55916-F5591604_sp03-047.fits   58.70   80.28   \n",
      "4996        4996  18803059  spec-55916-F5591604_sp03-059.fits   56.39   71.56   \n",
      "4997        4997  18803063  spec-55916-F5591604_sp03-063.fits   78.30  116.71   \n",
      "4998        4998  18803070  spec-55916-F5591604_sp03-070.fits   98.43  139.79   \n",
      "4999        4999  18803087  spec-55916-F5591604_sp03-087.fits   78.06   99.37   \n",
      "\n",
      "         teff  teff_err   logg  logg_err    feh  ...  S_tri_err     S_MWL  \\\n",
      "0     5888.25     36.75  4.109     0.052 -0.992  ...   0.017340  0.160930   \n",
      "1     5849.92     32.81  4.093     0.046 -0.426  ...   0.019178  0.165069   \n",
      "2     5911.97     33.92  4.181     0.048 -0.641  ...   0.021638  0.211722   \n",
      "3     5907.95     19.37  4.187     0.024  0.068  ...   0.001302  0.180622   \n",
      "4     5670.32     40.35  4.171     0.058 -0.370  ...   0.037266  0.171426   \n",
      "...       ...       ...    ...       ...    ...  ...        ...       ...   \n",
      "4995  5750.17     45.95  4.159     0.065 -0.079  ...   0.063542  0.172144   \n",
      "4996  5599.19     48.36  4.404     0.069 -0.034  ...   0.019921  0.190538   \n",
      "4997  4929.67     47.06  4.738     0.066  0.044  ...   0.017484  0.303863   \n",
      "4998  5405.52     43.07  4.644     0.060  0.043  ...   0.010043  0.243888   \n",
      "4999  6281.73     42.37  4.235     0.060 -0.265  ...   0.011413  0.202074   \n",
      "\n",
      "      S_MWL_err   H_mean_rec  H_mean_rec_err   K_mean_rec  K_mean_rec_err  \\\n",
      "0      0.013608    92.458774       14.023192    85.078057       13.665033   \n",
      "1      0.015051    71.747578        9.939946    63.869990       12.683447   \n",
      "2      0.016982    84.587978       11.137407    80.026398       12.654031   \n",
      "3      0.001022  2753.035740       26.467874  2416.492035       26.507067   \n",
      "4      0.029246    61.286395       21.950755    58.557414       13.470435   \n",
      "...         ...          ...             ...          ...             ...   \n",
      "4995   0.049868    80.537953       13.124442    66.422095       53.737877   \n",
      "4996   0.015634    91.942812       11.786215    79.992282       13.701451   \n",
      "4997   0.013722   155.310736       11.620336   140.801018       12.225932   \n",
      "4998   0.007882   216.486585       11.476354   197.393889       12.481853   \n",
      "4999   0.008957   188.565056       13.534611   161.331069       15.030409   \n",
      "\n",
      "         S_rec  S_rec_err  condition_tag  \n",
      "0     0.199938   0.022082                 \n",
      "1     0.206035   0.024513                 \n",
      "2     0.268830   0.027596                 \n",
      "3     0.227443   0.001656                 \n",
      "4     0.221000   0.047525                 \n",
      "...        ...        ...            ...  \n",
      "4995  0.217882   0.082026                 \n",
      "4996  0.241716   0.025460                 \n",
      "4997  0.388568   0.022261                 \n",
      "4998  0.310573   0.012782                 \n",
      "4999  0.252113   0.014614                 \n",
      "\n",
      "[5000 rows x 37 columns]>\n",
      "['Unnamed: 0' 'obsid' 'fitsname' 'snrg' 'snrr' 'teff' 'teff_err' 'logg'\n",
      " 'logg_err' 'feh' 'feh_err' 'rv' 'rv_err' 'ra_obs' 'dec_obs'\n",
      " 'gaia_source_id' 'gaia_g_mean_mag' 'figname' 'R_mean' 'R_mean_err'\n",
      " 'V_mean' 'V_mean_err' 'H_mean_tri' 'H_mean_tri_err' 'K_mean_tri'\n",
      " 'K_mean_tri_err' 'S_tri' 'S_tri_err' 'S_MWL' 'S_MWL_err' 'H_mean_rec'\n",
      " 'H_mean_rec_err' 'K_mean_rec' 'K_mean_rec_err' 'S_rec' 'S_rec_err'\n",
      " 'condition_tag']\n"
     ]
    }
   ],
   "source": [
    "tabla=pd.read_csv(\"datoscromosfericos.csv\") ### Lectura de los datos\n",
    "print(tabla.info)\n",
    "nombrecolumnas = tabla.columns.values\n",
    "print(nombrecolumnas)"
   ]
  },
  {
   "cell_type": "code",
   "execution_count": 8,
   "id": "f994de31",
   "metadata": {},
   "outputs": [
    {
     "data": {
      "text/plain": [
       "Unnamed: 0         0\n",
       "obsid              0\n",
       "fitsname           0\n",
       "snrg               0\n",
       "snrr               0\n",
       "teff               0\n",
       "teff_err           0\n",
       "logg               0\n",
       "logg_err           0\n",
       "feh                0\n",
       "feh_err            0\n",
       "rv                 0\n",
       "rv_err             0\n",
       "ra_obs             0\n",
       "dec_obs            0\n",
       "gaia_source_id     5\n",
       "gaia_g_mean_mag    5\n",
       "figname            0\n",
       "R_mean             0\n",
       "R_mean_err         0\n",
       "V_mean             0\n",
       "V_mean_err         0\n",
       "H_mean_tri         0\n",
       "H_mean_tri_err     0\n",
       "K_mean_tri         0\n",
       "K_mean_tri_err     0\n",
       "S_tri              0\n",
       "S_tri_err          0\n",
       "S_MWL              0\n",
       "S_MWL_err          0\n",
       "H_mean_rec         0\n",
       "H_mean_rec_err     0\n",
       "K_mean_rec         0\n",
       "K_mean_rec_err     0\n",
       "S_rec              0\n",
       "S_rec_err          0\n",
       "condition_tag      0\n",
       "dtype: int64"
      ]
     },
     "execution_count": 8,
     "metadata": {},
     "output_type": "execute_result"
    }
   ],
   "source": [
    "#### Revision por si hay valores NAN\n",
    "tabla.isnull().values.any()\n",
    "tabla.isnull().sum()"
   ]
  },
  {
   "cell_type": "markdown",
   "id": "38dcc1f0",
   "metadata": {},
   "source": [
    "### Los parametros donde tiene el NAN es referente al catalogo GAIA DR2, lo cual son interesantes\n",
    "### ya que posiblemente no esten registradas esas fuentes(Pues si no lo revisaron los autores)\n",
    "### Por lo que seran borrados y mas adelante se analizara esos conjuntos de datos con el dataset mas grande"
   ]
  },
  {
   "cell_type": "code",
   "execution_count": 10,
   "id": "1b4d50bd",
   "metadata": {},
   "outputs": [
    {
     "data": {
      "text/plain": [
       "False"
      ]
     },
     "execution_count": 10,
     "metadata": {},
     "output_type": "execute_result"
    }
   ],
   "source": [
    "### Borrado de datos \n",
    "tabla = tabla[tabla['gaia_source_id'].notna()]\n",
    "###verificacion si ahora el dataframe tiene NAN\n",
    "tabla.isnull().values.any()"
   ]
  },
  {
   "cell_type": "code",
   "execution_count": null,
   "id": "e35baf55",
   "metadata": {},
   "outputs": [],
   "source": []
  }
 ],
 "metadata": {
  "kernelspec": {
   "display_name": "Python 3 (ipykernel)",
   "language": "python",
   "name": "python3"
  },
  "language_info": {
   "codemirror_mode": {
    "name": "ipython",
    "version": 3
   },
   "file_extension": ".py",
   "mimetype": "text/x-python",
   "name": "python",
   "nbconvert_exporter": "python",
   "pygments_lexer": "ipython3",
   "version": "3.10.7"
  }
 },
 "nbformat": 4,
 "nbformat_minor": 5
}
